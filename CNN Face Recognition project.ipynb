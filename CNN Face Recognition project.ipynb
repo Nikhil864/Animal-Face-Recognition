{
 "cells": [
  {
   "cell_type": "markdown",
   "metadata": {
    "colab_type": "text",
    "id": "phJwuIUJyC6O"
   },
   "source": [
    "# CNN Animal Face Recognition project "
   ]
  },
  {
   "cell_type": "code",
   "execution_count": 1,
   "metadata": {
    "colab": {},
    "colab_type": "code",
    "executionInfo": {
     "elapsed": 1028,
     "status": "ok",
     "timestamp": 1598008643841,
     "user": {
      "displayName": "nikhil veeramalli",
      "photoUrl": "https://lh3.googleusercontent.com/a-/AOh14Gg4YjtWvYks5j-cJGJBrnxMTAqG8e5n5CjXNEzr_A=s64",
      "userId": "12630005537509400906"
     },
     "user_tz": -330
    },
    "id": "8vujEGw1yHhR"
   },
   "outputs": [
    {
     "name": "stderr",
     "output_type": "stream",
     "text": [
      "Using TensorFlow backend.\n",
      "C:\\Users\\Nik8\\anaconda3\\lib\\site-packages\\tensorflow\\python\\framework\\dtypes.py:516: FutureWarning: Passing (type, 1) or '1type' as a synonym of type is deprecated; in a future version of numpy, it will be understood as (type, (1,)) / '(1,)type'.\n",
      "  _np_qint8 = np.dtype([(\"qint8\", np.int8, 1)])\n",
      "C:\\Users\\Nik8\\anaconda3\\lib\\site-packages\\tensorflow\\python\\framework\\dtypes.py:517: FutureWarning: Passing (type, 1) or '1type' as a synonym of type is deprecated; in a future version of numpy, it will be understood as (type, (1,)) / '(1,)type'.\n",
      "  _np_quint8 = np.dtype([(\"quint8\", np.uint8, 1)])\n",
      "C:\\Users\\Nik8\\anaconda3\\lib\\site-packages\\tensorflow\\python\\framework\\dtypes.py:518: FutureWarning: Passing (type, 1) or '1type' as a synonym of type is deprecated; in a future version of numpy, it will be understood as (type, (1,)) / '(1,)type'.\n",
      "  _np_qint16 = np.dtype([(\"qint16\", np.int16, 1)])\n",
      "C:\\Users\\Nik8\\anaconda3\\lib\\site-packages\\tensorflow\\python\\framework\\dtypes.py:519: FutureWarning: Passing (type, 1) or '1type' as a synonym of type is deprecated; in a future version of numpy, it will be understood as (type, (1,)) / '(1,)type'.\n",
      "  _np_quint16 = np.dtype([(\"quint16\", np.uint16, 1)])\n",
      "C:\\Users\\Nik8\\anaconda3\\lib\\site-packages\\tensorflow\\python\\framework\\dtypes.py:520: FutureWarning: Passing (type, 1) or '1type' as a synonym of type is deprecated; in a future version of numpy, it will be understood as (type, (1,)) / '(1,)type'.\n",
      "  _np_qint32 = np.dtype([(\"qint32\", np.int32, 1)])\n",
      "C:\\Users\\Nik8\\anaconda3\\lib\\site-packages\\tensorflow\\python\\framework\\dtypes.py:525: FutureWarning: Passing (type, 1) or '1type' as a synonym of type is deprecated; in a future version of numpy, it will be understood as (type, (1,)) / '(1,)type'.\n",
      "  np_resource = np.dtype([(\"resource\", np.ubyte, 1)])\n",
      "C:\\Users\\Nik8\\anaconda3\\lib\\site-packages\\tensorboard\\compat\\tensorflow_stub\\dtypes.py:541: FutureWarning: Passing (type, 1) or '1type' as a synonym of type is deprecated; in a future version of numpy, it will be understood as (type, (1,)) / '(1,)type'.\n",
      "  _np_qint8 = np.dtype([(\"qint8\", np.int8, 1)])\n",
      "C:\\Users\\Nik8\\anaconda3\\lib\\site-packages\\tensorboard\\compat\\tensorflow_stub\\dtypes.py:542: FutureWarning: Passing (type, 1) or '1type' as a synonym of type is deprecated; in a future version of numpy, it will be understood as (type, (1,)) / '(1,)type'.\n",
      "  _np_quint8 = np.dtype([(\"quint8\", np.uint8, 1)])\n",
      "C:\\Users\\Nik8\\anaconda3\\lib\\site-packages\\tensorboard\\compat\\tensorflow_stub\\dtypes.py:543: FutureWarning: Passing (type, 1) or '1type' as a synonym of type is deprecated; in a future version of numpy, it will be understood as (type, (1,)) / '(1,)type'.\n",
      "  _np_qint16 = np.dtype([(\"qint16\", np.int16, 1)])\n",
      "C:\\Users\\Nik8\\anaconda3\\lib\\site-packages\\tensorboard\\compat\\tensorflow_stub\\dtypes.py:544: FutureWarning: Passing (type, 1) or '1type' as a synonym of type is deprecated; in a future version of numpy, it will be understood as (type, (1,)) / '(1,)type'.\n",
      "  _np_quint16 = np.dtype([(\"quint16\", np.uint16, 1)])\n",
      "C:\\Users\\Nik8\\anaconda3\\lib\\site-packages\\tensorboard\\compat\\tensorflow_stub\\dtypes.py:545: FutureWarning: Passing (type, 1) or '1type' as a synonym of type is deprecated; in a future version of numpy, it will be understood as (type, (1,)) / '(1,)type'.\n",
      "  _np_qint32 = np.dtype([(\"qint32\", np.int32, 1)])\n",
      "C:\\Users\\Nik8\\anaconda3\\lib\\site-packages\\tensorboard\\compat\\tensorflow_stub\\dtypes.py:550: FutureWarning: Passing (type, 1) or '1type' as a synonym of type is deprecated; in a future version of numpy, it will be understood as (type, (1,)) / '(1,)type'.\n",
      "  np_resource = np.dtype([(\"resource\", np.ubyte, 1)])\n"
     ]
    }
   ],
   "source": [
    "#importing libraries\n",
    "from keras.models import Sequential\n",
    "from keras.layers import Dense\n",
    "from keras.layers import Conv2D\n",
    "from keras.layers import MaxPool2D\n",
    "from keras.layers import Flatten"
   ]
  },
  {
   "cell_type": "code",
   "execution_count": 2,
   "metadata": {
    "colab": {},
    "colab_type": "code",
    "executionInfo": {
     "elapsed": 1356,
     "status": "ok",
     "timestamp": 1598008644184,
     "user": {
      "displayName": "nikhil veeramalli",
      "photoUrl": "https://lh3.googleusercontent.com/a-/AOh14Gg4YjtWvYks5j-cJGJBrnxMTAqG8e5n5CjXNEzr_A=s64",
      "userId": "12630005537509400906"
     },
     "user_tz": -330
    },
    "id": "afglGSnzyf16"
   },
   "outputs": [
    {
     "name": "stdout",
     "output_type": "stream",
     "text": [
      "WARNING:tensorflow:From C:\\Users\\Nik8\\anaconda3\\lib\\site-packages\\keras\\backend\\tensorflow_backend.py:4070: The name tf.nn.max_pool is deprecated. Please use tf.nn.max_pool2d instead.\n",
      "\n",
      "Model: \"sequential_1\"\n",
      "_________________________________________________________________\n",
      "Layer (type)                 Output Shape              Param #   \n",
      "=================================================================\n",
      "conv2d_1 (Conv2D)            (None, 123, 123, 128)     13952     \n",
      "_________________________________________________________________\n",
      "max_pooling2d_1 (MaxPooling2 (None, 61, 61, 128)       0         \n",
      "_________________________________________________________________\n",
      "conv2d_2 (Conv2D)            (None, 58, 58, 128)       262272    \n",
      "_________________________________________________________________\n",
      "max_pooling2d_2 (MaxPooling2 (None, 29, 29, 128)       0         \n",
      "_________________________________________________________________\n",
      "conv2d_3 (Conv2D)            (None, 27, 27, 128)       147584    \n",
      "_________________________________________________________________\n",
      "max_pooling2d_3 (MaxPooling2 (None, 13, 13, 128)       0         \n",
      "_________________________________________________________________\n",
      "conv2d_4 (Conv2D)            (None, 11, 11, 128)       147584    \n",
      "_________________________________________________________________\n",
      "max_pooling2d_4 (MaxPooling2 (None, 5, 5, 128)         0         \n",
      "_________________________________________________________________\n",
      "flatten_1 (Flatten)          (None, 3200)              0         \n",
      "_________________________________________________________________\n",
      "dense_1 (Dense)              (None, 19)                60819     \n",
      "=================================================================\n",
      "Total params: 632,211\n",
      "Trainable params: 632,211\n",
      "Non-trainable params: 0\n",
      "_________________________________________________________________\n"
     ]
    }
   ],
   "source": [
    "model=Sequential()\n",
    "model.add(Conv2D(128,(6,6),strides=(1,1),input_shape=(128,128,3),activation=\"relu\"))\n",
    "model.add(MaxPool2D(pool_size=(2,2),strides=(2,2)))\n",
    "model.add(Conv2D(128,(4,4),strides=(1,1),activation=\"relu\"))\n",
    "model.add(MaxPool2D())\n",
    "model.add(Conv2D(128,(3,3),strides=(1,1),activation=\"relu\"))\n",
    "model.add(MaxPool2D(pool_size=(2,2),strides=(2,2)))\n",
    "model.add(Conv2D(128,(3,3),strides=(1,1),activation=\"relu\"))\n",
    "model.add(MaxPool2D(pool_size=(2,2),strides=(2,2)))\n",
    "model.add(Flatten())\n",
    "model.add(Dense(kernel_initializer=\"random_uniform\",activation=\"softmax\",units=19))\n",
    "model.compile(loss=\"categorical_crossentropy\",optimizer=\"adam\",metrics=[\"accuracy\"])\n",
    "model.summary()"
   ]
  },
  {
   "cell_type": "code",
   "execution_count": 3,
   "metadata": {
    "colab": {},
    "colab_type": "code",
    "executionInfo": {
     "elapsed": 1777,
     "status": "ok",
     "timestamp": 1598008644723,
     "user": {
      "displayName": "nikhil veeramalli",
      "photoUrl": "https://lh3.googleusercontent.com/a-/AOh14Gg4YjtWvYks5j-cJGJBrnxMTAqG8e5n5CjXNEzr_A=s64",
      "userId": "12630005537509400906"
     },
     "user_tz": -330
    },
    "id": "JdZpQQqq9SRz"
   },
   "outputs": [],
   "source": [
    "from keras.preprocessing.image import ImageDataGenerator\n",
    "train_datagen = ImageDataGenerator(\n",
    "        rescale=1./255,\n",
    "        shear_range=0.2,\n",
    "        zoom_range=0.2,\n",
    "        horizontal_flip=True)\n",
    "test_datagen = ImageDataGenerator(rescale=1./255)"
   ]
  },
  {
   "cell_type": "code",
   "execution_count": 4,
   "metadata": {},
   "outputs": [
    {
     "data": {
      "text/plain": [
       "'C:\\\\Users\\\\Nik8\\\\1pythonfiles\\\\capstone_project'"
      ]
     },
     "execution_count": 4,
     "metadata": {},
     "output_type": "execute_result"
    }
   ],
   "source": [
    "pwd"
   ]
  },
  {
   "cell_type": "code",
   "execution_count": 5,
   "metadata": {
    "colab": {
     "base_uri": "https://localhost:8080/",
     "height": 34
    },
    "colab_type": "code",
    "executionInfo": {
     "elapsed": 1763,
     "status": "ok",
     "timestamp": 1598008644725,
     "user": {
      "displayName": "nikhil veeramalli",
      "photoUrl": "https://lh3.googleusercontent.com/a-/AOh14Gg4YjtWvYks5j-cJGJBrnxMTAqG8e5n5CjXNEzr_A=s64",
      "userId": "12630005537509400906"
     },
     "user_tz": -330
    },
    "id": "ENqtKPPSCmbr",
    "outputId": "a8bcc119-7c3e-4cfc-96fb-6cf1db9397b7"
   },
   "outputs": [
    {
     "name": "stdout",
     "output_type": "stream",
     "text": [
      "Found 950 images belonging to 19 classes.\n"
     ]
    }
   ],
   "source": [
    "x_train = train_datagen.flow_from_directory(\n",
    "        r'C:\\Users\\Nik8\\1pythonfiles\\capstone_project\\Image',\n",
    "        target_size=(128,128),\n",
    "        batch_size=30,\n",
    "        class_mode='categorical')"
   ]
  },
  {
   "cell_type": "code",
   "execution_count": 6,
   "metadata": {},
   "outputs": [
    {
     "data": {
      "text/plain": [
       "31.666666666666668"
      ]
     },
     "execution_count": 6,
     "metadata": {},
     "output_type": "execute_result"
    }
   ],
   "source": [
    "950/30"
   ]
  },
  {
   "cell_type": "code",
   "execution_count": 7,
   "metadata": {
    "colab": {
     "base_uri": "https://localhost:8080/",
     "height": 34
    },
    "colab_type": "code",
    "executionInfo": {
     "elapsed": 1713,
     "status": "ok",
     "timestamp": 1598008644728,
     "user": {
      "displayName": "nikhil veeramalli",
      "photoUrl": "https://lh3.googleusercontent.com/a-/AOh14Gg4YjtWvYks5j-cJGJBrnxMTAqG8e5n5CjXNEzr_A=s64",
      "userId": "12630005537509400906"
     },
     "user_tz": -330
    },
    "id": "wNjlYMfd46ps",
    "outputId": "7f735e95-abec-45f5-92bb-5579c6a74bcf"
   },
   "outputs": [
    {
     "data": {
      "text/plain": [
       "{'BearHead': 0,\n",
       " 'CatHead': 1,\n",
       " 'ChickenHead': 2,\n",
       " 'CowHead': 3,\n",
       " 'DeerHead': 4,\n",
       " 'DogHead': 5,\n",
       " 'DuckHead': 6,\n",
       " 'EagleHead': 7,\n",
       " 'ElephantHead': 8,\n",
       " 'LionHead': 9,\n",
       " 'MonkeyHead': 10,\n",
       " 'MouseHead': 11,\n",
       " 'PandaHead': 12,\n",
       " 'PigHead': 13,\n",
       " 'PigeonHead': 14,\n",
       " 'RabbitHead': 15,\n",
       " 'SheepHead': 16,\n",
       " 'TigerHead': 17,\n",
       " 'WolfHead': 18}"
      ]
     },
     "execution_count": 7,
     "metadata": {},
     "output_type": "execute_result"
    }
   ],
   "source": [
    "#Check the y values\n",
    "x_train.class_indices"
   ]
  },
  {
   "cell_type": "code",
   "execution_count": 8,
   "metadata": {
    "colab": {
     "base_uri": "https://localhost:8080/",
     "height": 102
    },
    "colab_type": "code",
    "executionInfo": {
     "elapsed": 8245,
     "status": "ok",
     "timestamp": 1598008651371,
     "user": {
      "displayName": "nikhil veeramalli",
      "photoUrl": "https://lh3.googleusercontent.com/a-/AOh14Gg4YjtWvYks5j-cJGJBrnxMTAqG8e5n5CjXNEzr_A=s64",
      "userId": "12630005537509400906"
     },
     "user_tz": -330
    },
    "id": "g32hDLtpADKN",
    "outputId": "4248b7e9-3327-4c9e-9578-c36a8250607c"
   },
   "outputs": [
    {
     "name": "stdout",
     "output_type": "stream",
     "text": [
      "WARNING:tensorflow:From C:\\Users\\Nik8\\anaconda3\\lib\\site-packages\\keras\\backend\\tensorflow_backend.py:422: The name tf.global_variables is deprecated. Please use tf.compat.v1.global_variables instead.\n",
      "\n",
      "Epoch 1/1\n",
      "32/32 [==============================] - 1153s 36s/step - loss: 2.9484 - accuracy: 0.0484\n"
     ]
    },
    {
     "data": {
      "text/plain": [
       "<keras.callbacks.callbacks.History at 0x18883acb688>"
      ]
     },
     "execution_count": 8,
     "metadata": {},
     "output_type": "execute_result"
    }
   ],
   "source": [
    "#Training model\n",
    "model.fit_generator(x_train,\n",
    "                    steps_per_epoch=32,\n",
    "                    epochs=1,\n",
    "                )"
   ]
  },
  {
   "cell_type": "code",
   "execution_count": 9,
   "metadata": {
    "colab": {},
    "colab_type": "code",
    "executionInfo": {
     "elapsed": 8228,
     "status": "ok",
     "timestamp": 1598008651372,
     "user": {
      "displayName": "nikhil veeramalli",
      "photoUrl": "https://lh3.googleusercontent.com/a-/AOh14Gg4YjtWvYks5j-cJGJBrnxMTAqG8e5n5CjXNEzr_A=s64",
      "userId": "12630005537509400906"
     },
     "user_tz": -330
    },
    "id": "YTy_7Li0CZua"
   },
   "outputs": [],
   "source": [
    "model.save(\"cnn_dc.h5\")"
   ]
  },
  {
   "cell_type": "code",
   "execution_count": 10,
   "metadata": {
    "colab": {},
    "colab_type": "code",
    "executionInfo": {
     "elapsed": 8216,
     "status": "ok",
     "timestamp": 1598008651373,
     "user": {
      "displayName": "nikhil veeramalli",
      "photoUrl": "https://lh3.googleusercontent.com/a-/AOh14Gg4YjtWvYks5j-cJGJBrnxMTAqG8e5n5CjXNEzr_A=s64",
      "userId": "12630005537509400906"
     },
     "user_tz": -330
    },
    "id": "HK8LqW-MK_0H"
   },
   "outputs": [],
   "source": [
    "from keras.models import load_model"
   ]
  },
  {
   "cell_type": "code",
   "execution_count": 11,
   "metadata": {
    "colab": {},
    "colab_type": "code",
    "executionInfo": {
     "elapsed": 8205,
     "status": "ok",
     "timestamp": 1598008651374,
     "user": {
      "displayName": "nikhil veeramalli",
      "photoUrl": "https://lh3.googleusercontent.com/a-/AOh14Gg4YjtWvYks5j-cJGJBrnxMTAqG8e5n5CjXNEzr_A=s64",
      "userId": "12630005537509400906"
     },
     "user_tz": -330
    },
    "id": "TJHrsXvkLHDc"
   },
   "outputs": [],
   "source": [
    "import numpy as np\n",
    "import cv2\n",
    "mod=load_model(r'C:\\Users\\Nik8\\1pythonfiles\\Codes\\DL\\cnn_dc.h5')"
   ]
  },
  {
   "cell_type": "code",
   "execution_count": 12,
   "metadata": {
    "colab": {
     "base_uri": "https://localhost:8080/",
     "height": 34
    },
    "colab_type": "code",
    "executionInfo": {
     "elapsed": 8185,
     "status": "ok",
     "timestamp": 1598008651375,
     "user": {
      "displayName": "nikhil veeramalli",
      "photoUrl": "https://lh3.googleusercontent.com/a-/AOh14Gg4YjtWvYks5j-cJGJBrnxMTAqG8e5n5CjXNEzr_A=s64",
      "userId": "12630005537509400906"
     },
     "user_tz": -330
    },
    "id": "B_O-oGrnLTmA",
    "outputId": "b2072e52-ef9f-451f-baf8-8ac28fd11b48"
   },
   "outputs": [
    {
     "data": {
      "text/plain": [
       "<keras.engine.sequential.Sequential at 0x188855379c8>"
      ]
     },
     "execution_count": 12,
     "metadata": {},
     "output_type": "execute_result"
    }
   ],
   "source": [
    "mod"
   ]
  },
  {
   "cell_type": "code",
   "execution_count": 13,
   "metadata": {},
   "outputs": [
    {
     "data": {
      "text/plain": [
       "{'BearHead': 0,\n",
       " 'CatHead': 1,\n",
       " 'ChickenHead': 2,\n",
       " 'CowHead': 3,\n",
       " 'DeerHead': 4,\n",
       " 'DogHead': 5,\n",
       " 'DuckHead': 6,\n",
       " 'EagleHead': 7,\n",
       " 'ElephantHead': 8,\n",
       " 'LionHead': 9,\n",
       " 'MonkeyHead': 10,\n",
       " 'MouseHead': 11,\n",
       " 'PandaHead': 12,\n",
       " 'PigHead': 13,\n",
       " 'PigeonHead': 14,\n",
       " 'RabbitHead': 15,\n",
       " 'SheepHead': 16,\n",
       " 'TigerHead': 17,\n",
       " 'WolfHead': 18}"
      ]
     },
     "execution_count": 13,
     "metadata": {},
     "output_type": "execute_result"
    }
   ],
   "source": [
    "output=x_train.class_indices\n",
    "output"
   ]
  },
  {
   "cell_type": "code",
   "execution_count": 27,
   "metadata": {
    "colab": {},
    "colab_type": "code",
    "executionInfo": {
     "elapsed": 915,
     "status": "ok",
     "timestamp": 1598009089757,
     "user": {
      "displayName": "nikhil veeramalli",
      "photoUrl": "https://lh3.googleusercontent.com/a-/AOh14Gg4YjtWvYks5j-cJGJBrnxMTAqG8e5n5CjXNEzr_A=s64",
      "userId": "12630005537509400906"
     },
     "user_tz": -330
    },
    "id": "D0Bt7cN8NNv4"
   },
   "outputs": [],
   "source": [
    "image=cv2.imread(r'C:\\Users\\Nik8\\1pythonfiles\\capstone_project\\Image\\ElephantHead\\0000000028.jpg')"
   ]
  },
  {
   "cell_type": "code",
   "execution_count": 28,
   "metadata": {},
   "outputs": [
    {
     "data": {
      "text/plain": [
       "(150, 150, 3)"
      ]
     },
     "execution_count": 28,
     "metadata": {},
     "output_type": "execute_result"
    }
   ],
   "source": [
    "image.shape"
   ]
  },
  {
   "cell_type": "code",
   "execution_count": 29,
   "metadata": {
    "colab": {
     "base_uri": "https://localhost:8080/",
     "height": 34
    },
    "colab_type": "code",
    "executionInfo": {
     "elapsed": 695,
     "status": "ok",
     "timestamp": 1598009090688,
     "user": {
      "displayName": "nikhil veeramalli",
      "photoUrl": "https://lh3.googleusercontent.com/a-/AOh14Gg4YjtWvYks5j-cJGJBrnxMTAqG8e5n5CjXNEzr_A=s64",
      "userId": "12630005537509400906"
     },
     "user_tz": -330
    },
    "id": "TpHEpSQsNaOk",
    "outputId": "70e6b890-b65b-44a2-b851-cf70e5a671f5"
   },
   "outputs": [],
   "source": [
    "image=cv2.resize(image,(128,128))\n",
    "image=np.array([image])\n",
    "prediction=model.predict_classes(image)"
   ]
  },
  {
   "cell_type": "code",
   "execution_count": 30,
   "metadata": {},
   "outputs": [
    {
     "name": "stdout",
     "output_type": "stream",
     "text": [
      "PandaHead\n"
     ]
    }
   ],
   "source": [
    "val=prediction[0]\n",
    "def Animal(val):\n",
    "    for key, value in output.items():\n",
    "        if val == value:\n",
    "            return key\n",
    "print(Animal(val))"
   ]
  },
  {
   "cell_type": "markdown",
   "metadata": {},
   "source": [
    "## Conclusion"
   ]
  },
  {
   "cell_type": "markdown",
   "metadata": {},
   "source": [
    "\n",
    "Here,we try to predict the name of the Animal face.\n",
    "Here we can increase the epochs and increase images to make good Accuracy and for better result.\n",
    "Due to the system limitations i got this result."
   ]
  }
 ],
 "metadata": {
  "accelerator": "GPU",
  "colab": {
   "authorship_tag": "ABX9TyMFEk+1QpghPzLGfjiDbvRL",
   "collapsed_sections": [],
   "mount_file_id": "1VGqZrKuqrgfqQrK5_UcqHHPmkTYcgkFa",
   "name": "CNN .ipynb",
   "provenance": []
  },
  "kernelspec": {
   "display_name": "Python 3",
   "language": "python",
   "name": "python3"
  },
  "language_info": {
   "codemirror_mode": {
    "name": "ipython",
    "version": 3
   },
   "file_extension": ".py",
   "mimetype": "text/x-python",
   "name": "python",
   "nbconvert_exporter": "python",
   "pygments_lexer": "ipython3",
   "version": "3.7.6"
  }
 },
 "nbformat": 4,
 "nbformat_minor": 1
}
